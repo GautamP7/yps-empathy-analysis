{
 "cells": [
  {
   "cell_type": "code",
   "execution_count": 1,
   "metadata": {},
   "outputs": [],
   "source": [
    "import pandas as pd\n",
    "import numpy as np\n",
    "from pylab import *\n",
    "from datasets import *\n",
    "from baseline import *\n",
    "from svm import *\n",
    "from mnb import *\n",
    "from mlp import *\n",
    "from knn import *\n",
    "from dt import *\n",
    "from rf import *\n",
    "from sklearn.externals import joblib\n",
    "from sklearn.metrics import accuracy_score\n",
    "from sklearn.model_selection import PredefinedSplit"
   ]
  },
  {
   "cell_type": "markdown",
   "metadata": {},
   "source": [
    "## Splitting the data\n",
    "``train``: 60%  ``dev``: 20%  ``test``:  20% "
   ]
  },
  {
   "cell_type": "code",
   "execution_count": 2,
   "metadata": {},
   "outputs": [],
   "source": [
    "train_data, dev_data, test_data = split_data('data/responses.csv')"
   ]
  },
  {
   "cell_type": "markdown",
   "metadata": {},
   "source": [
    "## Preprocessing data\n",
    "Processing each of the train, dev and test separately. This involves:\n",
    "1. Filling the columns having missing values with the mode of the respective column.\n",
    "2. One hot encoding the categorical columns\n",
    "3. Encoding ``Empathy`` column values 1, 2, 3 as ``-1`` and 4, 5 as ``+1``."
   ]
  },
  {
   "cell_type": "code",
   "execution_count": 3,
   "metadata": {},
   "outputs": [],
   "source": [
    "X,   Y   = preprocess_data(train_data)\n",
    "Xde, Yde = preprocess_data(dev_data)\n",
    "Xte, Yte = preprocess_data(test_data)"
   ]
  },
  {
   "cell_type": "code",
   "execution_count": 4,
   "metadata": {},
   "outputs": [
    {
     "data": {
      "text/plain": [
       "array([[5., 4., 2., ..., 0., 1., 0.],\n",
       "       [3., 3., 4., ..., 0., 1., 0.],\n",
       "       [5., 3., 2., ..., 1., 0., 1.],\n",
       "       ...,\n",
       "       [5., 3., 4., ..., 0., 1., 0.],\n",
       "       [5., 4., 1., ..., 1., 1., 0.],\n",
       "       [5., 4., 3., ..., 0., 1., 0.]])"
      ]
     },
     "execution_count": 4,
     "metadata": {},
     "output_type": "execute_result"
    },
    {
     "data": {
      "text/plain": [
       "array([ 1., -1.,  1., -1., -1.,  1., -1.,  1., -1.,  1., -1.,  1.,  1.,\n",
       "        1.,  1., -1.,  1.,  1.,  1., -1., -1., -1.,  1.,  1.,  1., -1.,\n",
       "        1., -1.,  1.,  1.,  1.,  1.,  1.,  1.,  1.,  1., -1.,  1., -1.,\n",
       "       -1., -1.,  1., -1.,  1.,  1.,  1.,  1.,  1.,  1.,  1.,  1., -1.,\n",
       "        1.,  1.,  1.,  1.,  1., -1.,  1.,  1.,  1.,  1., -1.,  1.,  1.,\n",
       "        1.,  1.,  1., -1.,  1., -1.,  1.,  1., -1., -1.,  1., -1., -1.,\n",
       "        1., -1.,  1., -1.,  1.,  1., -1.,  1.,  1.,  1.,  1., -1.,  1.,\n",
       "        1.,  1., -1., -1.,  1.,  1.,  1.,  1.,  1., -1.,  1., -1., -1.,\n",
       "        1.,  1., -1., -1.,  1., -1., -1.,  1., -1.,  1.,  1.,  1.,  1.,\n",
       "        1.,  1.,  1.,  1., -1.,  1.,  1.,  1., -1.,  1.,  1.,  1., -1.,\n",
       "        1., -1.,  1., -1., -1.,  1.,  1., -1.,  1.,  1.,  1.,  1.,  1.,\n",
       "        1.,  1., -1.,  1.,  1.,  1.,  1.,  1., -1.,  1., -1.,  1.,  1.,\n",
       "       -1.,  1.,  1.,  1.,  1.,  1.,  1., -1.,  1.,  1., -1.,  1., -1.,\n",
       "        1.,  1.,  1.,  1.,  1.,  1.,  1.,  1.,  1., -1., -1.,  1., -1.,\n",
       "        1., -1., -1.,  1.,  1.,  1.,  1.,  1., -1.,  1.,  1.,  1.,  1.,\n",
       "        1.,  1.,  1., -1.,  1.,  1., -1.,  1.,  1.,  1., -1., -1.,  1.,\n",
       "        1.,  1., -1.,  1.,  1.,  1.,  1.,  1., -1.,  1.,  1., -1.,  1.,\n",
       "        1.,  1.,  1., -1., -1.,  1., -1., -1.,  1.,  1.,  1.,  1.,  1.,\n",
       "       -1.,  1.,  1.,  1.,  1.,  1.,  1.,  1.,  1.,  1.,  1.,  1.,  1.,\n",
       "       -1., -1.,  1.,  1.,  1., -1., -1., -1.,  1.,  1.,  1., -1.,  1.,\n",
       "        1.,  1.,  1.,  1.,  1.,  1.,  1.,  1.,  1.,  1., -1.,  1.,  1.,\n",
       "        1.,  1., -1.,  1.,  1.,  1.,  1., -1.,  1., -1., -1.,  1.,  1.,\n",
       "        1., -1.,  1.,  1.,  1., -1.,  1.,  1.,  1.,  1.,  1., -1.,  1.,\n",
       "       -1.,  1.,  1., -1.,  1.,  1.,  1., -1.,  1., -1.,  1., -1., -1.,\n",
       "       -1., -1.,  1.,  1., -1.,  1.,  1.,  1.,  1.,  1.,  1.,  1., -1.,\n",
       "        1.,  1., -1.,  1.,  1.,  1.,  1.,  1.,  1.,  1.,  1.,  1.,  1.,\n",
       "        1., -1., -1.,  1.,  1., -1.,  1.,  1.,  1., -1.,  1., -1., -1.,\n",
       "       -1.,  1.,  1., -1., -1.,  1.,  1.,  1.,  1., -1.,  1.,  1.,  1.,\n",
       "        1.,  1.,  1.,  1.,  1.,  1.,  1.,  1.,  1., -1.,  1., -1., -1.,\n",
       "       -1., -1.,  1., -1., -1.,  1.,  1., -1.,  1.,  1.,  1.,  1.,  1.,\n",
       "       -1.,  1.,  1., -1., -1.,  1.,  1.,  1.,  1.,  1., -1.,  1.,  1.,\n",
       "        1.,  1.,  1.,  1., -1.,  1., -1., -1., -1.,  1.,  1.,  1., -1.,\n",
       "       -1., -1., -1.,  1.,  1.,  1.,  1.,  1.,  1.,  1.,  1.,  1., -1.,\n",
       "       -1.,  1., -1., -1., -1., -1.,  1.,  1., -1., -1.,  1.,  1.,  1.,\n",
       "        1.,  1., -1., -1.,  1.,  1., -1.,  1.,  1., -1.,  1.,  1., -1.,\n",
       "        1., -1.,  1.,  1., -1.,  1., -1., -1., -1.,  1.,  1., -1., -1.,\n",
       "        1.,  1.,  1.,  1., -1.,  1., -1.,  1.,  1., -1., -1., -1.,  1.,\n",
       "        1.,  1.,  1., -1.,  1.,  1.,  1.,  1.,  1.,  1.,  1.,  1.,  1.,\n",
       "       -1.,  1., -1.,  1., -1., -1.,  1.,  1., -1.,  1.,  1.,  1.,  1.,\n",
       "       -1.,  1., -1.,  1.,  1., -1.,  1., -1.,  1., -1., -1.,  1.,  1.,\n",
       "        1.,  1., -1.,  1.,  1.,  1.,  1., -1., -1.,  1.,  1.,  1.,  1.,\n",
       "       -1.,  1.,  1.,  1.,  1.,  1.,  1.,  1.,  1., -1., -1., -1., -1.,\n",
       "        1.,  1., -1., -1., -1.,  1.,  1.,  1.,  1.,  1.,  1.,  1., -1.,\n",
       "       -1.,  1.,  1.,  1.,  1.,  1.,  1.,  1.,  1.,  1.,  1.,  1., -1.,\n",
       "        1., -1.,  1.,  1., -1., -1.,  1., -1., -1.,  1.,  1., -1., -1.,\n",
       "       -1., -1.,  1.,  1.,  1., -1.,  1., -1., -1.,  1.,  1.,  1.,  1.,\n",
       "       -1.,  1.,  1., -1., -1., -1., -1., -1.])"
      ]
     },
     "execution_count": 4,
     "metadata": {},
     "output_type": "execute_result"
    }
   ],
   "source": [
    "X\n",
    "Y"
   ]
  },
  {
   "cell_type": "markdown",
   "metadata": {},
   "source": [
    "## Dataset distribution\n",
    "``Train set``"
   ]
  },
  {
   "cell_type": "code",
   "execution_count": 5,
   "metadata": {},
   "outputs": [
    {
     "data": {
      "text/plain": [
       "(606, 172)"
      ]
     },
     "execution_count": 5,
     "metadata": {},
     "output_type": "execute_result"
    },
    {
     "data": {
      "text/plain": [
       "(606,)"
      ]
     },
     "execution_count": 5,
     "metadata": {},
     "output_type": "execute_result"
    },
    {
     "data": {
      "text/plain": [
       "{-1.0: 196, 1.0: 410}"
      ]
     },
     "execution_count": 5,
     "metadata": {},
     "output_type": "execute_result"
    }
   ],
   "source": [
    "X.shape\n",
    "Y.shape\n",
    "unique, counts = np.unique(Y, return_counts=True)\n",
    "dict(zip(unique, counts))"
   ]
  },
  {
   "cell_type": "markdown",
   "metadata": {},
   "source": [
    "``Development set``"
   ]
  },
  {
   "cell_type": "code",
   "execution_count": 6,
   "metadata": {},
   "outputs": [
    {
     "data": {
      "text/plain": [
       "(202, 172)"
      ]
     },
     "execution_count": 6,
     "metadata": {},
     "output_type": "execute_result"
    },
    {
     "data": {
      "text/plain": [
       "(202,)"
      ]
     },
     "execution_count": 6,
     "metadata": {},
     "output_type": "execute_result"
    },
    {
     "data": {
      "text/plain": [
       "{-1.0: 76, 1.0: 126}"
      ]
     },
     "execution_count": 6,
     "metadata": {},
     "output_type": "execute_result"
    }
   ],
   "source": [
    "Xde.shape\n",
    "Yde.shape\n",
    "unique, counts = np.unique(Yde, return_counts=True)\n",
    "dict(zip(unique, counts))"
   ]
  },
  {
   "cell_type": "markdown",
   "metadata": {},
   "source": [
    "``Test set``"
   ]
  },
  {
   "cell_type": "code",
   "execution_count": 7,
   "metadata": {},
   "outputs": [
    {
     "data": {
      "text/plain": [
       "(202, 172)"
      ]
     },
     "execution_count": 7,
     "metadata": {},
     "output_type": "execute_result"
    },
    {
     "data": {
      "text/plain": [
       "(202,)"
      ]
     },
     "execution_count": 7,
     "metadata": {},
     "output_type": "execute_result"
    },
    {
     "data": {
      "text/plain": [
       "{-1.0: 68, 1.0: 134}"
      ]
     },
     "execution_count": 7,
     "metadata": {},
     "output_type": "execute_result"
    }
   ],
   "source": [
    "Xte.shape\n",
    "Yte.shape\n",
    "unique, counts = np.unique(Yte, return_counts=True)\n",
    "dict(zip(unique, counts))"
   ]
  },
  {
   "cell_type": "markdown",
   "metadata": {},
   "source": [
    "## Feature selection\n",
    "Using logistic regression as the estimator to determine feature importances. The feature importances are then used by RFECV (recursive feature elimination with cross validation) to eliminate 1 feature in each iteration to give a minimum no. of best features upon termination.<br />\n",
    "The minimum features to select is set to 20 and the cross validation is set to 10-fold."
   ]
  },
  {
   "cell_type": "code",
   "execution_count": 8,
   "metadata": {},
   "outputs": [],
   "source": [
    "from sklearn.linear_model import LogisticRegression\n",
    "from sklearn.feature_selection import RFECV\n",
    "import warnings\n",
    "\n",
    "warnings.simplefilter(action='ignore', category=FutureWarning)\n",
    "\n",
    "clf = LogisticRegression()\n",
    "rfecv = RFECV(clf, cv=10, min_features_to_select=20)\n",
    "f = rfecv.fit(X, Y)\n",
    "\n",
    "X = X[:, f.support_]\n",
    "Xde = Xde[:, f.support_]\n",
    "Xte = Xte[:, f.support_]"
   ]
  },
  {
   "cell_type": "code",
   "execution_count": 9,
   "metadata": {},
   "outputs": [
    {
     "name": "stdout",
     "output_type": "stream",
     "text": [
      "Number of features selected: 21\n",
      "\n",
      "Selected features:\n"
     ]
    },
    {
     "data": {
      "text/plain": [
       "['Psychology',\n",
       " 'Physics',\n",
       " 'Science and technology',\n",
       " 'Fear of public speaking',\n",
       " 'Friends versus money',\n",
       " 'Judgment calls',\n",
       " 'Socializing',\n",
       " 'Spending on looks',\n",
       " 'Number of siblings',\n",
       " 'Alcohol_drink a lot',\n",
       " 'Alcohol_social drinker',\n",
       " 'Punctuality_i am always on time',\n",
       " 'Punctuality_i am often early',\n",
       " 'Punctuality_i am often running late',\n",
       " 'Lying_everytime it suits me',\n",
       " 'Lying_never',\n",
       " 'Internet usage_no time at all',\n",
       " 'Gender_female',\n",
       " 'Left - right handed_left handed',\n",
       " 'Only child_yes',\n",
       " 'House - block of flats_block of flats']"
      ]
     },
     "execution_count": 9,
     "metadata": {},
     "output_type": "execute_result"
    },
    {
     "name": "stdout",
     "output_type": "stream",
     "text": [
      "Feature Ranking: [120  22 134 121 143  34  47  27  31 137 123  13 107 146 114  35  85  73\n",
      " 117   7 110  79 103  71   9  33 106 139  46 138 108 112   1  53 102   1\n",
      "  36  93 132  64  89 148  57  58  65  54  78  61 131 144  20 128  39 104\n",
      " 133   5  75  19   1  40  74  42 124  44 115  66 125 130 122  90  11  55\n",
      "   1  83  56 136 111  98  88  81 101  87  17   1  96 116  24 142  12 141\n",
      "   1  67  70  37  59  23 129  69  82  28  80  29  91 118 140  77 100 150\n",
      " 119   1  62   3  41  84  14  92  60  94  38  99 109  76  63  30 113  16\n",
      "  97 105  18  15   2  72   1  21  51 127 126 147   1  26  45  68 151   1\n",
      "  95   1   1   1   1   1   1  10  49   6   8 149   1   1  86   1   4  52\n",
      " 152  48  32  43  25 135   1  50 145   1]\n",
      "\n"
     ]
    }
   ],
   "source": [
    "features = []\n",
    "for i in range(len(f.support_)):\n",
    "    if f.support_[i]:\n",
    "        features.append(train_data.columns[i])\n",
    "        \n",
    "print('Number of features selected: {}\\n'.format(f.n_features_))\n",
    "print('Selected features:')\n",
    "features\n",
    "print('Feature Ranking: {}\\n'.format(f.ranking_))"
   ]
  },
  {
   "cell_type": "markdown",
   "metadata": {},
   "source": [
    "Here, the selected features are ranked 1 and the remaining features are ranked from 2 to the end."
   ]
  },
  {
   "cell_type": "markdown",
   "metadata": {},
   "source": [
    "## Hyperparameter tuning setup\n",
    "Note: Not tuning hyperpameters here but loading already tuned models.\n",
    "\n",
    "Creating test fold to tune hyperparameters on dev data."
   ]
  },
  {
   "cell_type": "code",
   "execution_count": 10,
   "metadata": {},
   "outputs": [],
   "source": [
    "Xm = np.concatenate((X, Xde), axis=0)\n",
    "Ym = np.concatenate((Y, Yde), axis=0)\n",
    "test_fold = []\n",
    "for i in range(len(X)):\n",
    "    test_fold.append(-1)\n",
    "for i in range(len(Xde)):\n",
    "    test_fold.append(0)\n",
    "\n",
    "ps = PredefinedSplit(test_fold=test_fold)"
   ]
  },
  {
   "cell_type": "markdown",
   "metadata": {},
   "source": [
    "Using GridsearchCV to automatically test all combinations of parameters for a model, by passing all the values for different hyperparameters to be tested for the respective model. GridsearchCV returns the best parameter values for each of those parameters."
   ]
  },
  {
   "cell_type": "code",
   "execution_count": 11,
   "metadata": {},
   "outputs": [],
   "source": [
    "def find_best_params(clf, parameters):\n",
    "    gscv = GridSearchCV(clf, parameters, cv=ps)\n",
    "    gscv.fit(Xm, Ym)\n",
    "    print('\\nThe best parameter settings are:\\n{}\\n'.format(gscv.best_params_))\n",
    "    return gscv"
   ]
  },
  {
   "cell_type": "markdown",
   "metadata": {},
   "source": [
    "Initializing lists to store all accuracies for vizualization."
   ]
  },
  {
   "cell_type": "code",
   "execution_count": 12,
   "metadata": {},
   "outputs": [],
   "source": [
    "classifiers = ['Most_frequent', 'Decision_tree', 'Random_forest', 'Naive_bayes', 'Perceptron', 'SVM']\n",
    "training_acc = []\n",
    "dev_acc = []\n",
    "test_acc = []"
   ]
  },
  {
   "cell_type": "markdown",
   "metadata": {},
   "source": [
    "## Most Frequent classifier (Baseline classifier)"
   ]
  },
  {
   "cell_type": "code",
   "execution_count": 13,
   "metadata": {},
   "outputs": [
    {
     "name": "stdout",
     "output_type": "stream",
     "text": [
      "Training most frequent classifier...\n",
      "\n"
     ]
    },
    {
     "data": {
      "text/plain": [
       "DummyClassifier(constant=None, random_state=None, strategy='most_frequent')"
      ]
     },
     "execution_count": 13,
     "metadata": {},
     "output_type": "execute_result"
    },
    {
     "name": "stdout",
     "output_type": "stream",
     "text": [
      "Predicting most frequent classifier on train and dev sets...\n",
      "most frequent train accuracy = 0.676568\n",
      "most frequent dev accuracy = 0.623762\n",
      "\n",
      "Testing most frequent classifier on test set...\n",
      "most frequent dev accuracy = 0.663366\n"
     ]
    }
   ],
   "source": [
    "# Training\n",
    "print('Training most frequent classifier...\\n')\n",
    "clf = DummyClassifier(strategy='most_frequent')\n",
    "clf.fit(X, Y)\n",
    "Ypred = clf.predict(X)\n",
    "Ydepred = clf.predict(Xde)\n",
    "training_acc.append(accuracy_score(Y, Ypred))\n",
    "dev_acc.append(accuracy_score(Yde, Ydepred))\n",
    "print('Predicting most frequent classifier on train and dev sets...')\n",
    "print('most frequent train accuracy = {0:.6f}'.format(accuracy_score(Y, Ypred)))\n",
    "print('most frequent dev accuracy = {0:.6f}'.format(accuracy_score(Yde, Ydepred)))\n",
    "\n",
    "# Testing\n",
    "print('\\nTesting most frequent classifier on test set...')\n",
    "Ytepred = clf.predict(Xte)\n",
    "test_acc.append(accuracy_score(Yte, Ytepred))\n",
    "print('most frequent dev accuracy = {0:.6f}'.format(accuracy_score(Yte, Ytepred)))"
   ]
  },
  {
   "cell_type": "markdown",
   "metadata": {},
   "source": [
    "## Decision Tree classifier"
   ]
  },
  {
   "cell_type": "code",
   "execution_count": 14,
   "metadata": {},
   "outputs": [
    {
     "name": "stdout",
     "output_type": "stream",
     "text": [
      "Loading the trained decision tree classifier...\n",
      "\n",
      "Hyperparameter values that were used to tune the model are:\n",
      "criterion: gini, entropy\n",
      "max_depth: 1, 2, 3, 4, 5, 6, 7, 8, 9, 10, 20\n",
      "\n",
      "The best parameter settings are:\n",
      "{'criterion': 'entropy', 'max_depth': 3}\n",
      "\n",
      "Predicting decision tree classifier on train and dev sets...\n",
      "decision tree train accuracy = 0.712871\n",
      "decision tree dev accuracy = 0.698020\n",
      "\n",
      "Testing decision tree classifier on test set...\n",
      "decision tree test accuracy = 0.702970\n"
     ]
    }
   ],
   "source": [
    "print('Loading the trained decision tree classifier...\\n')\n",
    "print('Hyperparameter values that were used to tune the model are:')\n",
    "parameters = [\n",
    "    {'criterion': ['gini', 'entropy'], 'max_depth': [1, 2, 3, 4, 5, 6, 7, 8, 9, 10, 20]}\n",
    "]\n",
    "print_params(parameters)\n",
    "clf = joblib.load('DT.sav')\n",
    "print('\\nThe best parameter settings are:\\n{}\\n'.format(clf.best_params_))\n",
    "Ypred = clf.predict(X)\n",
    "Ydepred = clf.predict(Xde)\n",
    "training_acc.append(accuracy_score(Y, Ypred))\n",
    "dev_acc.append(accuracy_score(Yde, Ydepred))\n",
    "print('Predicting decision tree classifier on train and dev sets...')\n",
    "print('decision tree train accuracy = {0:.6f}'.format(accuracy_score(Y, Ypred)))\n",
    "print('decision tree dev accuracy = {0:.6f}'.format(accuracy_score(Yde, Ydepred)))\n",
    "\n",
    "# Testing\n",
    "print('\\nTesting decision tree classifier on test set...')\n",
    "Ytepred = clf.predict(Xte)\n",
    "test_acc.append(accuracy_score(Yte, Ytepred))\n",
    "print('decision tree test accuracy = {0:.6f}'.format(accuracy_score(Yte, Ytepred)))"
   ]
  },
  {
   "cell_type": "markdown",
   "metadata": {},
   "source": [
    "## Random Forest classifier"
   ]
  },
  {
   "cell_type": "code",
   "execution_count": 15,
   "metadata": {},
   "outputs": [
    {
     "name": "stdout",
     "output_type": "stream",
     "text": [
      "Loading the trained random forest classifier...\n",
      "\n",
      "Hyperparameter values that were used to tune the model are:\n",
      "n_estimators: 5, 10, 15\n",
      "criterion: gini, entropy\n",
      "max_depth: 2, 3, 5, 7, 10, 15\n",
      "\n",
      "The best parameter settings are:\n",
      "{'criterion': 'entropy', 'max_depth': 7, 'n_estimators': 10}\n",
      "\n",
      "Predicting random forest classifier on train and dev sets...\n",
      "random forest train accuracy = 0.834983\n",
      "random forest dev accuracy = 0.821782\n",
      "\n",
      "Testing random forest classifier on test set...\n",
      "random forest test accuracy = 0.712871\n"
     ]
    }
   ],
   "source": [
    "print('Loading the trained random forest classifier...\\n')\n",
    "print('Hyperparameter values that were used to tune the model are:')\n",
    "parameters = [\n",
    "    {'n_estimators': [5, 10, 15], 'criterion': ['gini', 'entropy'], 'max_depth': [2, 3, 5, 7, 10, 15]}\n",
    "]\n",
    "print_params(parameters)\n",
    "clf = joblib.load('RF.sav')\n",
    "print('\\nThe best parameter settings are:\\n{}\\n'.format(clf.best_params_))\n",
    "Ypred = clf.predict(X)\n",
    "Ydepred = clf.predict(Xde)\n",
    "training_acc.append(accuracy_score(Y, Ypred))\n",
    "dev_acc.append(accuracy_score(Yde, Ydepred))\n",
    "print('Predicting random forest classifier on train and dev sets...')\n",
    "print('random forest train accuracy = {0:.6f}'.format(accuracy_score(Y, Ypred)))\n",
    "print('random forest dev accuracy = {0:.6f}'.format(accuracy_score(Yde, Ydepred)))\n",
    "\n",
    "# Testing\n",
    "print('\\nTesting random forest classifier on test set...')\n",
    "Ytepred = clf.predict(Xte)\n",
    "test_acc.append(accuracy_score(Yte, Ytepred))\n",
    "print('random forest test accuracy = {0:.6f}'.format(accuracy_score(Yte, Ytepred)))"
   ]
  },
  {
   "cell_type": "markdown",
   "metadata": {},
   "source": [
    "## Multinomial Naive Bayes classifier"
   ]
  },
  {
   "cell_type": "code",
   "execution_count": 16,
   "metadata": {},
   "outputs": [
    {
     "name": "stdout",
     "output_type": "stream",
     "text": [
      "Loading the trained multinomial naive bayes classifier...\n",
      "\n",
      "Hyperparameter values that were used to tune the model are:\n",
      "alpha: 1, 5, 10, 15, 20, 25, 30, 40, 50\n",
      "\n",
      "The best parameter settings are:\n",
      "{'alpha': 20}\n",
      "\n",
      "Predicting multinomial naive bayes classifier on train and dev sets...\n",
      "multinomial naive bayes train accuracy = 0.714521\n",
      "multinomial naive bayes dev accuracy = 0.678218\n",
      "\n",
      "Testing multinomial naive bayes classifier on test set...\n",
      "multinomial naive bayes test accuracy = 0.693069\n"
     ]
    }
   ],
   "source": [
    "print('Loading the trained multinomial naive bayes classifier...\\n')\n",
    "print('Hyperparameter values that were used to tune the model are:')\n",
    "parameters = [\n",
    "    {'alpha': [1, 5, 10, 15, 20, 25, 30, 40, 50]}\n",
    "]\n",
    "print_params(parameters)\n",
    "clf = joblib.load('MultinomialNB.sav')\n",
    "print('\\nThe best parameter settings are:\\n{}\\n'.format(clf.best_params_))\n",
    "Ypred = clf.predict(X)\n",
    "Ydepred = clf.predict(Xde)\n",
    "training_acc.append(accuracy_score(Y, Ypred))\n",
    "dev_acc.append(accuracy_score(Yde, Ydepred))\n",
    "print('Predicting multinomial naive bayes classifier on train and dev sets...')\n",
    "print('multinomial naive bayes train accuracy = {0:.6f}'.format(accuracy_score(Y, Ypred)))\n",
    "print('multinomial naive bayes dev accuracy = {0:.6f}'.format(accuracy_score(Yde, Ydepred)))\n",
    "\n",
    "# Testing\n",
    "print('\\nTesting multinomial naive bayes classifier on test set...')\n",
    "Ytepred = clf.predict(Xte)\n",
    "test_acc.append(accuracy_score(Yte, Ytepred))\n",
    "print('multinomial naive bayes test accuracy = {0:.6f}'.format(accuracy_score(Yte, Ytepred)))"
   ]
  },
  {
   "cell_type": "markdown",
   "metadata": {},
   "source": [
    "## Multilayer Perceptron classifier"
   ]
  },
  {
   "cell_type": "code",
   "execution_count": 17,
   "metadata": {},
   "outputs": [
    {
     "name": "stdout",
     "output_type": "stream",
     "text": [
      "Loading the trained multilayer perceptron classifier...\n",
      "\n",
      "Hyperparameter values that were used to tune the model are:\n",
      "activation: logistic, tanh, relu\n",
      "learning_rate: constant, invscaling, adaptive\n",
      "alpha: 0.0001, 0.001, 0.01, 0.1, 1, 10\n",
      "\n",
      "The best parameter settings are:\n",
      "{'activation': 'tanh', 'alpha': 0.0001, 'learning_rate': 'constant'}\n",
      "\n",
      "Predicting multilayer perceptron classifier on train and dev sets...\n",
      "multilayer perceptron train accuracy = 0.745875\n",
      "multilayer perceptron dev accuracy = 0.722772\n",
      "\n",
      "Testing multilayer perceptron classifier on test set...\n",
      "multilayer perceptron test accuracy = 0.712871\n"
     ]
    }
   ],
   "source": [
    "print('Loading the trained multilayer perceptron classifier...\\n')\n",
    "print('Hyperparameter values that were used to tune the model are:')\n",
    "parameters = [\n",
    "    {'activation': ['logistic', 'tanh', 'relu'], 'learning_rate': ['constant', 'invscaling', 'adaptive'], 'alpha': [0.0001, 0.001, 0.01, 0.1, 1, 10]}\n",
    "]\n",
    "print_params(parameters)\n",
    "clf = joblib.load('MLP.sav')\n",
    "print('\\nThe best parameter settings are:\\n{}\\n'.format(clf.best_params_))\n",
    "Ypred = clf.predict(X)\n",
    "Ydepred = clf.predict(Xde)\n",
    "training_acc.append(accuracy_score(Y, Ypred))\n",
    "dev_acc.append(accuracy_score(Yde, Ydepred))\n",
    "print('Predicting multilayer perceptron classifier on train and dev sets...')\n",
    "print('multilayer perceptron train accuracy = {0:.6f}'.format(accuracy_score(Y, Ypred)))\n",
    "print('multilayer perceptron dev accuracy = {0:.6f}'.format(accuracy_score(Yde, Ydepred)))\n",
    "\n",
    "# Testing\n",
    "print('\\nTesting multilayer perceptron classifier on test set...')\n",
    "Ytepred = clf.predict(Xte)\n",
    "test_acc.append(accuracy_score(Yte, Ytepred))\n",
    "print('multilayer perceptron test accuracy = {0:.6f}'.format(accuracy_score(Yte, Ytepred)))"
   ]
  },
  {
   "cell_type": "markdown",
   "metadata": {},
   "source": [
    "## SVM classifier"
   ]
  },
  {
   "cell_type": "code",
   "execution_count": 18,
   "metadata": {},
   "outputs": [
    {
     "name": "stdout",
     "output_type": "stream",
     "text": [
      "Loading the trained svm classifier...\n",
      "\n",
      "Hyperparameter values that were used to tune the model are:\n",
      "C: 1, 10\n",
      "kernel: rbf, poly\n",
      "gamma: 1, 10, scale\n",
      "degree: 1, 2\n",
      "\n",
      "The best parameter settings are:\n",
      "{'C': 1, 'degree': 1, 'gamma': 'scale', 'kernel': 'rbf'}\n",
      "\n",
      "Predicting svm classifier on train and dev sets...\n",
      "svm train accuracy = 0.762376\n",
      "svm dev accuracy = 0.757426\n",
      "\n",
      "Testing svm classifier on test set...\n",
      "svm test accuracy = 0.693069\n"
     ]
    }
   ],
   "source": [
    "print('Loading the trained svm classifier...\\n')\n",
    "print('Hyperparameter values that were used to tune the model are:')\n",
    "parameters = [\n",
    "    {'C': [1, 10], 'kernel': ['rbf', 'poly'], 'gamma': [1, 10, 'scale'], 'degree': [1, 2]}\n",
    "]\n",
    "print_params(parameters)\n",
    "clf = joblib.load('SVM.sav')\n",
    "print('\\nThe best parameter settings are:\\n{}\\n'.format(clf.best_params_))\n",
    "Ypred = clf.predict(X)\n",
    "Ydepred = clf.predict(Xde)\n",
    "training_acc.append(accuracy_score(Y, Ypred))\n",
    "dev_acc.append(accuracy_score(Yde, Ydepred))\n",
    "print('Predicting svm classifier on train and dev sets...')\n",
    "print('svm train accuracy = {0:.6f}'.format(accuracy_score(Y, Ypred)))\n",
    "print('svm dev accuracy = {0:.6f}'.format(accuracy_score(Yde, Ydepred)))\n",
    "\n",
    "# Testing\n",
    "print('\\nTesting svm classifier on test set...')\n",
    "Ytepred = clf.predict(Xte)\n",
    "test_acc.append(accuracy_score(Yte, Ytepred))\n",
    "print('svm test accuracy = {0:.6f}'.format(accuracy_score(Yte, Ytepred)))"
   ]
  },
  {
   "cell_type": "markdown",
   "metadata": {},
   "source": [
    "## Accuracy analysis"
   ]
  },
  {
   "cell_type": "code",
   "execution_count": 19,
   "metadata": {},
   "outputs": [
    {
     "data": {
      "text/plain": [
       "[<matplotlib.lines.Line2D at 0x7f6813a5eba8>,\n",
       " <matplotlib.lines.Line2D at 0x7f6813a5ec88>,\n",
       " <matplotlib.lines.Line2D at 0x7f6813a5efd0>]"
      ]
     },
     "execution_count": 19,
     "metadata": {},
     "output_type": "execute_result"
    },
    {
     "data": {
      "text/plain": [
       "<matplotlib.legend.Legend at 0x7f6812ba9358>"
      ]
     },
     "execution_count": 19,
     "metadata": {},
     "output_type": "execute_result"
    },
    {
     "data": {
      "text/plain": [
       "Text(0.5, 0, 'Classifiers')"
      ]
     },
     "execution_count": 19,
     "metadata": {},
     "output_type": "execute_result"
    },
    {
     "data": {
      "text/plain": [
       "Text(0, 0.5, 'Accuracy')"
      ]
     },
     "execution_count": 19,
     "metadata": {},
     "output_type": "execute_result"
    },
    {
     "data": {
      "text/plain": [
       "([0, 1, 2, 3, 4, 5], <a list of 6 Text xticklabel objects>)"
      ]
     },
     "execution_count": 19,
     "metadata": {},
     "output_type": "execute_result"
    },
    {
     "data": {
      "image/png": "[encoded data removed]",
      "text/plain": [
       "<Figure size 432x288 with 1 Axes>"
      ]
     },
     "metadata": {
      "needs_background": "light"
     },
     "output_type": "display_data"
    }
   ],
   "source": [
    "plot(classifiers, training_acc, 'b-',\n",
    "     classifiers, dev_acc, 'g-',\n",
    "     classifiers, test_acc, 'r-')\n",
    "legend(('Train', 'Development', 'Test'))\n",
    "xlabel('Classifiers')\n",
    "ylabel('Accuracy')\n",
    "xticks(rotation=30)\n",
    "show()"
   ]
  },
  {
   "cell_type": "markdown",
   "metadata": {},
   "source": [
    "As can be seen from the graph, all the models perform better than the baseline most frequent classifier on train, dev and test sets.<br />\n",
    "Random forest performs the best on train, dev and test sets which is expected, it being an ensemble classifier.<br />\n",
    "Multilayer perceptron performs as good as random forest on the test set.<br />\n",
    "Both random forest and svm seem to perform poorly on the test set relative to their performance on the train and dev sets. This seems to indicate slight overfitting."
   ]
  },
  {
   "cell_type": "code",
   "execution_count": null,
   "metadata": {},
   "outputs": [],
   "source": []
  }
 ],
 "metadata": {
  "kernelspec": {
   "display_name": "Python 3",
   "language": "python",
   "name": "python3"
  },
  "language_info": {
   "codemirror_mode": {
    "name": "ipython",
    "version": 3
   },
   "file_extension": ".py",
   "mimetype": "text/x-python",
   "name": "python",
   "nbconvert_exporter": "python",
   "pygments_lexer": "ipython3",
   "version": "3.6.6"
  }
 },
 "nbformat": 4,
 "nbformat_minor": 2
}
